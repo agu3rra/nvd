{
 "cells": [
  {
   "cell_type": "code",
   "execution_count": 1,
   "metadata": {},
   "outputs": [
    {
     "name": "stdout",
     "output_type": "stream",
     "text": [
      "19 files identified\n",
      "nvdcve-1.1-2002.json\n",
      "nvdcve-1.1-2003.json\n",
      "nvdcve-1.1-2004.json\n",
      "nvdcve-1.1-2005.json\n",
      "nvdcve-1.1-2006.json\n",
      "nvdcve-1.1-2007.json\n",
      "nvdcve-1.1-2008.json\n",
      "nvdcve-1.1-2009.json\n",
      "nvdcve-1.1-2010.json\n",
      "nvdcve-1.1-2011.json\n",
      "nvdcve-1.1-2012.json\n",
      "nvdcve-1.1-2013.json\n",
      "nvdcve-1.1-2014.json\n",
      "nvdcve-1.1-2015.json\n",
      "nvdcve-1.1-2016.json\n",
      "nvdcve-1.1-2017.json\n",
      "nvdcve-1.1-2018.json\n",
      "nvdcve-1.1-2019.json\n",
      "nvdcve-1.1-2020.json\n"
     ]
    }
   ],
   "source": [
    "# Listing JSON files\n",
    "from os import listdir\n",
    "from os.path import isfile, join\n",
    "path = join('data', 'extracted')\n",
    "data_files = [f for f in listdir(path) if isfile(join(path, f))]\n",
    "print('{} files identified'.format(len(data_files)))\n",
    "for item in data_files:\n",
    "    print(item)"
   ]
  },
  {
   "cell_type": "code",
   "execution_count": 2,
   "metadata": {},
   "outputs": [
    {
     "name": "stdout",
     "output_type": "stream",
     "text": [
      "Processing data\\extracted\\nvdcve-1.1-2002.json\n",
      "Found 6748 CVEs in nvdcve-1.1-2002.json\n",
      "Processing data\\extracted\\nvdcve-1.1-2003.json\n",
      "Found 1547 CVEs in nvdcve-1.1-2003.json\n",
      "Processing data\\extracted\\nvdcve-1.1-2004.json\n",
      "Found 2703 CVEs in nvdcve-1.1-2004.json\n",
      "Processing data\\extracted\\nvdcve-1.1-2005.json\n",
      "Found 4758 CVEs in nvdcve-1.1-2005.json\n",
      "Processing data\\extracted\\nvdcve-1.1-2006.json\n",
      "Found 7134 CVEs in nvdcve-1.1-2006.json\n",
      "Processing data\\extracted\\nvdcve-1.1-2007.json\n",
      "Found 6569 CVEs in nvdcve-1.1-2007.json\n",
      "Processing data\\extracted\\nvdcve-1.1-2008.json\n",
      "Found 7155 CVEs in nvdcve-1.1-2008.json\n",
      "Processing data\\extracted\\nvdcve-1.1-2009.json\n",
      "Found 4996 CVEs in nvdcve-1.1-2009.json\n",
      "Processing data\\extracted\\nvdcve-1.1-2010.json\n",
      "Found 5168 CVEs in nvdcve-1.1-2010.json\n",
      "Processing data\\extracted\\nvdcve-1.1-2011.json\n",
      "Found 4806 CVEs in nvdcve-1.1-2011.json\n",
      "Processing data\\extracted\\nvdcve-1.1-2012.json\n",
      "Found 5789 CVEs in nvdcve-1.1-2012.json\n",
      "Processing data\\extracted\\nvdcve-1.1-2013.json\n",
      "Found 6619 CVEs in nvdcve-1.1-2013.json\n",
      "Processing data\\extracted\\nvdcve-1.1-2014.json\n",
      "Found 8824 CVEs in nvdcve-1.1-2014.json\n",
      "Processing data\\extracted\\nvdcve-1.1-2015.json\n",
      "Found 8502 CVEs in nvdcve-1.1-2015.json\n",
      "Processing data\\extracted\\nvdcve-1.1-2016.json\n",
      "Found 10305 CVEs in nvdcve-1.1-2016.json\n",
      "Processing data\\extracted\\nvdcve-1.1-2017.json\n",
      "Found 16187 CVEs in nvdcve-1.1-2017.json\n",
      "Processing data\\extracted\\nvdcve-1.1-2018.json\n",
      "Found 16280 CVEs in nvdcve-1.1-2018.json\n",
      "Processing data\\extracted\\nvdcve-1.1-2019.json\n",
      "Found 15429 CVEs in nvdcve-1.1-2019.json\n",
      "Processing data\\extracted\\nvdcve-1.1-2020.json\n",
      "Found 3946 CVEs in nvdcve-1.1-2020.json\n"
     ]
    }
   ],
   "source": [
    "# Loading data into memory\n",
    "import json\n",
    "full_list = []\n",
    "total_cves = 0\n",
    "for data_file in data_files:\n",
    "    file_path = join(path, data_file)\n",
    "    print('Processing {}'.format(file_path))\n",
    "    with open(file_path, encoding='utf-8') as fh:\n",
    "        contents = json.load(fh)\n",
    "        contents = contents.get(\"CVE_Items\", None)\n",
    "        if contents is None:\n",
    "            raise ValueError('CVE_Items not found in {}'.format(file_path))\n",
    "        cve_count = len(contents)\n",
    "        print('Found {} CVEs in {}'.format(cve_count, data_file))\n",
    "        total_cves += cve_count\n",
    "        full_list += contents"
   ]
  },
  {
   "cell_type": "code",
   "execution_count": 3,
   "metadata": {},
   "outputs": [
    {
     "name": "stdout",
     "output_type": "stream",
     "text": [
      "Total CVEs documented: 143465\n",
      "Total CVEs documented: 143465\n"
     ]
    }
   ],
   "source": [
    "print('Total CVEs documented: {}'.format(total_cves))\n",
    "print('Total CVEs documented: {}'.format(len(full_list)))"
   ]
  },
  {
   "cell_type": "code",
   "execution_count": 4,
   "metadata": {},
   "outputs": [
    {
     "data": {
      "text/plain": [
       "{'cve': {'data_type': 'CVE',\n",
       "  'data_format': 'MITRE',\n",
       "  'data_version': '4.0',\n",
       "  'CVE_data_meta': {'ID': 'CVE-1999-0004', 'ASSIGNER': 'cve@mitre.org'},\n",
       "  'problemtype': {'problemtype_data': [{'description': [{'lang': 'en',\n",
       "       'value': 'NVD-CWE-Other'}]}]},\n",
       "  'references': {'reference_data': [{'url': 'https://docs.microsoft.com/en-us/security-updates/securitybulletins/1998/ms98-008',\n",
       "     'name': 'MS98-008',\n",
       "     'refsource': 'MS',\n",
       "     'tags': []}]},\n",
       "  'description': {'description_data': [{'lang': 'en',\n",
       "     'value': 'MIME buffer overflow in email clients, e.g. Solaris mailtool and Outlook.'}]}},\n",
       " 'configurations': {'CVE_data_version': '4.0',\n",
       "  'nodes': [{'operator': 'OR',\n",
       "    'cpe_match': [{'vulnerable': True,\n",
       "      'cpe23Uri': 'cpe:2.3:a:hp:dtmail:*:*:*:*:*:*:*:*'},\n",
       "     {'vulnerable': True,\n",
       "      'cpe23Uri': 'cpe:2.3:a:university_of_washington:pine:4.02:*:*:*:*:*:*:*'}]},\n",
       "   {'operator': 'OR',\n",
       "    'cpe_match': [{'vulnerable': True,\n",
       "      'cpe23Uri': 'cpe:2.3:o:sco:unixware:7.0:*:*:*:*:*:*:*'}]}]},\n",
       " 'impact': {'baseMetricV2': {'cvssV2': {'version': '2.0',\n",
       "    'vectorString': 'AV:N/AC:L/Au:N/C:N/I:N/A:P',\n",
       "    'accessVector': 'NETWORK',\n",
       "    'accessComplexity': 'LOW',\n",
       "    'authentication': 'NONE',\n",
       "    'confidentialityImpact': 'NONE',\n",
       "    'integrityImpact': 'NONE',\n",
       "    'availabilityImpact': 'PARTIAL',\n",
       "    'baseScore': 5.0},\n",
       "   'severity': 'MEDIUM',\n",
       "   'exploitabilityScore': 10.0,\n",
       "   'impactScore': 2.9,\n",
       "   'obtainAllPrivilege': False,\n",
       "   'obtainUserPrivilege': False,\n",
       "   'obtainOtherPrivilege': False,\n",
       "   'userInteractionRequired': False}},\n",
       " 'publishedDate': '1997-12-16T05:00Z',\n",
       " 'lastModifiedDate': '2018-10-12T21:29Z'}"
      ]
     },
     "execution_count": 4,
     "metadata": {},
     "output_type": "execute_result"
    }
   ],
   "source": [
    "full_list[3]['cve']"
   ]
  },
  {
   "cell_type": "code",
   "execution_count": 5,
   "metadata": {},
   "outputs": [],
   "source": [
    "import pandas as pd"
   ]
  },
  {
   "cell_type": "code",
   "execution_count": 6,
   "metadata": {},
   "outputs": [],
   "source": [
    "df_full = pd.DataFrame(full_list)"
   ]
  },
  {
   "cell_type": "code",
   "execution_count": 7,
   "metadata": {},
   "outputs": [
    {
     "data": {
      "text/html": [
       "<div>\n",
       "<style scoped>\n",
       "    .dataframe tbody tr th:only-of-type {\n",
       "        vertical-align: middle;\n",
       "    }\n",
       "\n",
       "    .dataframe tbody tr th {\n",
       "        vertical-align: top;\n",
       "    }\n",
       "\n",
       "    .dataframe thead th {\n",
       "        text-align: right;\n",
       "    }\n",
       "</style>\n",
       "<table border=\"1\" class=\"dataframe\">\n",
       "  <thead>\n",
       "    <tr style=\"text-align: right;\">\n",
       "      <th></th>\n",
       "      <th>cve</th>\n",
       "      <th>configurations</th>\n",
       "      <th>impact</th>\n",
       "      <th>publishedDate</th>\n",
       "      <th>lastModifiedDate</th>\n",
       "    </tr>\n",
       "  </thead>\n",
       "  <tbody>\n",
       "    <tr>\n",
       "      <th>0</th>\n",
       "      <td>{'data_type': 'CVE', 'data_format': 'MITRE', '...</td>\n",
       "      <td>{'CVE_data_version': '4.0', 'nodes': [{'operat...</td>\n",
       "      <td>{'baseMetricV2': {'cvssV2': {'version': '2.0',...</td>\n",
       "      <td>1999-12-30T05:00Z</td>\n",
       "      <td>2010-12-16T05:00Z</td>\n",
       "    </tr>\n",
       "    <tr>\n",
       "      <th>1</th>\n",
       "      <td>{'data_type': 'CVE', 'data_format': 'MITRE', '...</td>\n",
       "      <td>{'CVE_data_version': '4.0', 'nodes': [{'operat...</td>\n",
       "      <td>{'baseMetricV2': {'cvssV2': {'version': '2.0',...</td>\n",
       "      <td>1998-10-12T04:00Z</td>\n",
       "      <td>2009-01-26T05:00Z</td>\n",
       "    </tr>\n",
       "    <tr>\n",
       "      <th>2</th>\n",
       "      <td>{'data_type': 'CVE', 'data_format': 'MITRE', '...</td>\n",
       "      <td>{'CVE_data_version': '4.0', 'nodes': [{'operat...</td>\n",
       "      <td>{'baseMetricV2': {'cvssV2': {'version': '2.0',...</td>\n",
       "      <td>1998-04-01T05:00Z</td>\n",
       "      <td>2018-10-30T16:26Z</td>\n",
       "    </tr>\n",
       "    <tr>\n",
       "      <th>3</th>\n",
       "      <td>{'data_type': 'CVE', 'data_format': 'MITRE', '...</td>\n",
       "      <td>{'CVE_data_version': '4.0', 'nodes': [{'operat...</td>\n",
       "      <td>{'baseMetricV2': {'cvssV2': {'version': '2.0',...</td>\n",
       "      <td>1997-12-16T05:00Z</td>\n",
       "      <td>2018-10-12T21:29Z</td>\n",
       "    </tr>\n",
       "    <tr>\n",
       "      <th>4</th>\n",
       "      <td>{'data_type': 'CVE', 'data_format': 'MITRE', '...</td>\n",
       "      <td>{'CVE_data_version': '4.0', 'nodes': [{'operat...</td>\n",
       "      <td>{'baseMetricV2': {'cvssV2': {'version': '2.0',...</td>\n",
       "      <td>1998-07-20T04:00Z</td>\n",
       "      <td>2008-09-09T12:33Z</td>\n",
       "    </tr>\n",
       "  </tbody>\n",
       "</table>\n",
       "</div>"
      ],
      "text/plain": [
       "                                                 cve  \\\n",
       "0  {'data_type': 'CVE', 'data_format': 'MITRE', '...   \n",
       "1  {'data_type': 'CVE', 'data_format': 'MITRE', '...   \n",
       "2  {'data_type': 'CVE', 'data_format': 'MITRE', '...   \n",
       "3  {'data_type': 'CVE', 'data_format': 'MITRE', '...   \n",
       "4  {'data_type': 'CVE', 'data_format': 'MITRE', '...   \n",
       "\n",
       "                                      configurations  \\\n",
       "0  {'CVE_data_version': '4.0', 'nodes': [{'operat...   \n",
       "1  {'CVE_data_version': '4.0', 'nodes': [{'operat...   \n",
       "2  {'CVE_data_version': '4.0', 'nodes': [{'operat...   \n",
       "3  {'CVE_data_version': '4.0', 'nodes': [{'operat...   \n",
       "4  {'CVE_data_version': '4.0', 'nodes': [{'operat...   \n",
       "\n",
       "                                              impact      publishedDate  \\\n",
       "0  {'baseMetricV2': {'cvssV2': {'version': '2.0',...  1999-12-30T05:00Z   \n",
       "1  {'baseMetricV2': {'cvssV2': {'version': '2.0',...  1998-10-12T04:00Z   \n",
       "2  {'baseMetricV2': {'cvssV2': {'version': '2.0',...  1998-04-01T05:00Z   \n",
       "3  {'baseMetricV2': {'cvssV2': {'version': '2.0',...  1997-12-16T05:00Z   \n",
       "4  {'baseMetricV2': {'cvssV2': {'version': '2.0',...  1998-07-20T04:00Z   \n",
       "\n",
       "    lastModifiedDate  \n",
       "0  2010-12-16T05:00Z  \n",
       "1  2009-01-26T05:00Z  \n",
       "2  2018-10-30T16:26Z  \n",
       "3  2018-10-12T21:29Z  \n",
       "4  2008-09-09T12:33Z  "
      ]
     },
     "execution_count": 7,
     "metadata": {},
     "output_type": "execute_result"
    }
   ],
   "source": [
    "df_full.head()"
   ]
  },
  {
   "cell_type": "code",
   "execution_count": 12,
   "metadata": {},
   "outputs": [],
   "source": [
    "cves = df_full['cve']"
   ]
  },
  {
   "cell_type": "code",
   "execution_count": 13,
   "metadata": {},
   "outputs": [],
   "source": [
    "cves = cves.tolist()"
   ]
  },
  {
   "cell_type": "code",
   "execution_count": 11,
   "metadata": {},
   "outputs": [
    {
     "data": {
      "text/html": [
       "<div>\n",
       "<style scoped>\n",
       "    .dataframe tbody tr th:only-of-type {\n",
       "        vertical-align: middle;\n",
       "    }\n",
       "\n",
       "    .dataframe tbody tr th {\n",
       "        vertical-align: top;\n",
       "    }\n",
       "\n",
       "    .dataframe thead th {\n",
       "        text-align: right;\n",
       "    }\n",
       "</style>\n",
       "<table border=\"1\" class=\"dataframe\">\n",
       "  <thead>\n",
       "    <tr style=\"text-align: right;\">\n",
       "      <th></th>\n",
       "      <th>cve</th>\n",
       "    </tr>\n",
       "  </thead>\n",
       "  <tbody>\n",
       "    <tr>\n",
       "      <th>0</th>\n",
       "      <td>{'data_type': 'CVE', 'data_format': 'MITRE', '...</td>\n",
       "    </tr>\n",
       "    <tr>\n",
       "      <th>1</th>\n",
       "      <td>{'data_type': 'CVE', 'data_format': 'MITRE', '...</td>\n",
       "    </tr>\n",
       "    <tr>\n",
       "      <th>2</th>\n",
       "      <td>{'data_type': 'CVE', 'data_format': 'MITRE', '...</td>\n",
       "    </tr>\n",
       "    <tr>\n",
       "      <th>3</th>\n",
       "      <td>{'data_type': 'CVE', 'data_format': 'MITRE', '...</td>\n",
       "    </tr>\n",
       "    <tr>\n",
       "      <th>4</th>\n",
       "      <td>{'data_type': 'CVE', 'data_format': 'MITRE', '...</td>\n",
       "    </tr>\n",
       "  </tbody>\n",
       "</table>\n",
       "</div>"
      ],
      "text/plain": [
       "                                                 cve\n",
       "0  {'data_type': 'CVE', 'data_format': 'MITRE', '...\n",
       "1  {'data_type': 'CVE', 'data_format': 'MITRE', '...\n",
       "2  {'data_type': 'CVE', 'data_format': 'MITRE', '...\n",
       "3  {'data_type': 'CVE', 'data_format': 'MITRE', '...\n",
       "4  {'data_type': 'CVE', 'data_format': 'MITRE', '..."
      ]
     },
     "execution_count": 11,
     "metadata": {},
     "output_type": "execute_result"
    }
   ],
   "source": [
    "cves.head()"
   ]
  },
  {
   "cell_type": "code",
   "execution_count": 15,
   "metadata": {},
   "outputs": [],
   "source": [
    "df_cves = pd.DataFrame(cves)"
   ]
  },
  {
   "cell_type": "code",
   "execution_count": 16,
   "metadata": {},
   "outputs": [
    {
     "data": {
      "text/html": [
       "<div>\n",
       "<style scoped>\n",
       "    .dataframe tbody tr th:only-of-type {\n",
       "        vertical-align: middle;\n",
       "    }\n",
       "\n",
       "    .dataframe tbody tr th {\n",
       "        vertical-align: top;\n",
       "    }\n",
       "\n",
       "    .dataframe thead th {\n",
       "        text-align: right;\n",
       "    }\n",
       "</style>\n",
       "<table border=\"1\" class=\"dataframe\">\n",
       "  <thead>\n",
       "    <tr style=\"text-align: right;\">\n",
       "      <th></th>\n",
       "      <th>data_type</th>\n",
       "      <th>data_format</th>\n",
       "      <th>data_version</th>\n",
       "      <th>CVE_data_meta</th>\n",
       "      <th>problemtype</th>\n",
       "      <th>references</th>\n",
       "      <th>description</th>\n",
       "    </tr>\n",
       "  </thead>\n",
       "  <tbody>\n",
       "    <tr>\n",
       "      <th>0</th>\n",
       "      <td>CVE</td>\n",
       "      <td>MITRE</td>\n",
       "      <td>4.0</td>\n",
       "      <td>{'ID': 'CVE-1999-0001', 'ASSIGNER': 'cve@mitre...</td>\n",
       "      <td>{'problemtype_data': [{'description': [{'lang'...</td>\n",
       "      <td>{'reference_data': [{'url': 'http://www.openbs...</td>\n",
       "      <td>{'description_data': [{'lang': 'en', 'value': ...</td>\n",
       "    </tr>\n",
       "    <tr>\n",
       "      <th>1</th>\n",
       "      <td>CVE</td>\n",
       "      <td>MITRE</td>\n",
       "      <td>4.0</td>\n",
       "      <td>{'ID': 'CVE-1999-0002', 'ASSIGNER': 'cve@mitre...</td>\n",
       "      <td>{'problemtype_data': [{'description': [{'lang'...</td>\n",
       "      <td>{'reference_data': [{'url': 'ftp://patches.sgi...</td>\n",
       "      <td>{'description_data': [{'lang': 'en', 'value': ...</td>\n",
       "    </tr>\n",
       "    <tr>\n",
       "      <th>2</th>\n",
       "      <td>CVE</td>\n",
       "      <td>MITRE</td>\n",
       "      <td>4.0</td>\n",
       "      <td>{'ID': 'CVE-1999-0003', 'ASSIGNER': 'cve@mitre...</td>\n",
       "      <td>{'problemtype_data': [{'description': [{'lang'...</td>\n",
       "      <td>{'reference_data': [{'url': 'ftp://patches.sgi...</td>\n",
       "      <td>{'description_data': [{'lang': 'en', 'value': ...</td>\n",
       "    </tr>\n",
       "    <tr>\n",
       "      <th>3</th>\n",
       "      <td>CVE</td>\n",
       "      <td>MITRE</td>\n",
       "      <td>4.0</td>\n",
       "      <td>{'ID': 'CVE-1999-0004', 'ASSIGNER': 'cve@mitre...</td>\n",
       "      <td>{'problemtype_data': [{'description': [{'lang'...</td>\n",
       "      <td>{'reference_data': [{'url': 'https://docs.micr...</td>\n",
       "      <td>{'description_data': [{'lang': 'en', 'value': ...</td>\n",
       "    </tr>\n",
       "    <tr>\n",
       "      <th>4</th>\n",
       "      <td>CVE</td>\n",
       "      <td>MITRE</td>\n",
       "      <td>4.0</td>\n",
       "      <td>{'ID': 'CVE-1999-0005', 'ASSIGNER': 'cve@mitre...</td>\n",
       "      <td>{'problemtype_data': [{'description': [{'lang'...</td>\n",
       "      <td>{'reference_data': [{'url': 'http://sunsolve.s...</td>\n",
       "      <td>{'description_data': [{'lang': 'en', 'value': ...</td>\n",
       "    </tr>\n",
       "  </tbody>\n",
       "</table>\n",
       "</div>"
      ],
      "text/plain": [
       "  data_type data_format data_version  \\\n",
       "0       CVE       MITRE          4.0   \n",
       "1       CVE       MITRE          4.0   \n",
       "2       CVE       MITRE          4.0   \n",
       "3       CVE       MITRE          4.0   \n",
       "4       CVE       MITRE          4.0   \n",
       "\n",
       "                                       CVE_data_meta  \\\n",
       "0  {'ID': 'CVE-1999-0001', 'ASSIGNER': 'cve@mitre...   \n",
       "1  {'ID': 'CVE-1999-0002', 'ASSIGNER': 'cve@mitre...   \n",
       "2  {'ID': 'CVE-1999-0003', 'ASSIGNER': 'cve@mitre...   \n",
       "3  {'ID': 'CVE-1999-0004', 'ASSIGNER': 'cve@mitre...   \n",
       "4  {'ID': 'CVE-1999-0005', 'ASSIGNER': 'cve@mitre...   \n",
       "\n",
       "                                         problemtype  \\\n",
       "0  {'problemtype_data': [{'description': [{'lang'...   \n",
       "1  {'problemtype_data': [{'description': [{'lang'...   \n",
       "2  {'problemtype_data': [{'description': [{'lang'...   \n",
       "3  {'problemtype_data': [{'description': [{'lang'...   \n",
       "4  {'problemtype_data': [{'description': [{'lang'...   \n",
       "\n",
       "                                          references  \\\n",
       "0  {'reference_data': [{'url': 'http://www.openbs...   \n",
       "1  {'reference_data': [{'url': 'ftp://patches.sgi...   \n",
       "2  {'reference_data': [{'url': 'ftp://patches.sgi...   \n",
       "3  {'reference_data': [{'url': 'https://docs.micr...   \n",
       "4  {'reference_data': [{'url': 'http://sunsolve.s...   \n",
       "\n",
       "                                         description  \n",
       "0  {'description_data': [{'lang': 'en', 'value': ...  \n",
       "1  {'description_data': [{'lang': 'en', 'value': ...  \n",
       "2  {'description_data': [{'lang': 'en', 'value': ...  \n",
       "3  {'description_data': [{'lang': 'en', 'value': ...  \n",
       "4  {'description_data': [{'lang': 'en', 'value': ...  "
      ]
     },
     "execution_count": 16,
     "metadata": {},
     "output_type": "execute_result"
    }
   ],
   "source": [
    "df_cves.head()"
   ]
  },
  {
   "cell_type": "code",
   "execution_count": 17,
   "metadata": {},
   "outputs": [
    {
     "data": {
      "text/plain": [
       "{'data_type': 'CVE',\n",
       " 'data_format': 'MITRE',\n",
       " 'data_version': '4.0',\n",
       " 'CVE_data_meta': {'ID': 'CVE-1999-0004', 'ASSIGNER': 'cve@mitre.org'},\n",
       " 'problemtype': {'problemtype_data': [{'description': [{'lang': 'en',\n",
       "      'value': 'NVD-CWE-Other'}]}]},\n",
       " 'references': {'reference_data': [{'url': 'https://docs.microsoft.com/en-us/security-updates/securitybulletins/1998/ms98-008',\n",
       "    'name': 'MS98-008',\n",
       "    'refsource': 'MS',\n",
       "    'tags': []}]},\n",
       " 'description': {'description_data': [{'lang': 'en',\n",
       "    'value': 'MIME buffer overflow in email clients, e.g. Solaris mailtool and Outlook.'}]}}"
      ]
     },
     "execution_count": 17,
     "metadata": {},
     "output_type": "execute_result"
    }
   ],
   "source": [
    "full_list[3]['cve']"
   ]
  },
  {
   "cell_type": "code",
   "execution_count": null,
   "metadata": {},
   "outputs": [],
   "source": []
  }
 ],
 "metadata": {
  "kernelspec": {
   "display_name": "Python 3",
   "language": "python",
   "name": "python3"
  },
  "language_info": {
   "codemirror_mode": {
    "name": "ipython",
    "version": 3
   },
   "file_extension": ".py",
   "mimetype": "text/x-python",
   "name": "python",
   "nbconvert_exporter": "python",
   "pygments_lexer": "ipython3",
   "version": "3.8.1"
  }
 },
 "nbformat": 4,
 "nbformat_minor": 4
}
